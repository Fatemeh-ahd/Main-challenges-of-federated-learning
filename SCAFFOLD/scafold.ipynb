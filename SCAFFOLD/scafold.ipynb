{
  "cells": [
    {
      "cell_type": "code",
      "execution_count": null,
      "metadata": {
        "id": "W0m_IfmCKxdw"
      },
      "outputs": [],
      "source": [
        "import copy\n",
        "\n",
        "import torch\n",
        "from torchsummary import summary\n",
        "\n",
        "import numpy as np\n",
        "import pandas as pd\n",
        "import random"
      ]
    },
    {
      "cell_type": "code",
      "execution_count": null,
      "metadata": {
        "id": "6AMviWd-LI4C"
      },
      "outputs": [],
      "source": [
        "from models import ResNet50"
      ]
    },
    {
      "cell_type": "code",
      "execution_count": null,
      "metadata": {
        "id": "vKK8CHY2P8DV"
      },
      "outputs": [],
      "source": [
        "from utils3 import evaluate, get_data_batch"
      ]
    },
    {
      "cell_type": "code",
      "execution_count": null,
      "metadata": {
        "id": "aTI4MmGnLwQT"
      },
      "outputs": [],
      "source": [
        "# parameters#############################\n",
        "iid = 0 # if the data is IID or 0 not IID      \n",
        "#########################################\n",
        "########################################\n",
        "unbalanced = 1# in non i.i.d. setting split the data between clients equally or not\n",
        "########################################\n",
        "\n",
        "\n",
        "\n",
        "num_users = 50# number of client\n",
        "frac = 0.1 # fraction of the clients to be used for federated updates\n",
        "n_epochs = 20\n",
        "gpu = 0\n",
        "optimizer = \"sgd\" #sgd or adam\n",
        "local_batch_size =128 # batch size of local updates in each user\n",
        "lr = 1 # learning rate\n",
        "local_epochs = 10\n",
        "loss_function = \"CrossEntropyLoss\" #//crosssssssssssss\n",
        "\n",
        "percentage = 0  # percentage of strugglers\n",
        "\n",
        "mu = 0.05  # proximal term constant\n",
        "\n",
        "\n",
        "\n",
        "####################################################\n",
        "num_groups = 2  # 0 for BatchNorm, > 0 for GroupNorm\n",
        "if num_groups == 2:\n",
        "    normalization_type = \"BatchNorm\"\n",
        "else:\n",
        "    normalization_type = \"GroupNorm\"\n",
        "\n",
        "####################################################"
      ]
    },
    {
      "cell_type": "code",
      "execution_count": null,
      "metadata": {
        "id": "DHdcIoboLYoC"
      },
      "outputs": [],
      "source": [
        "if iid:\n",
        "    from iid import get_dataset, average_weights, weighted_average_weights, exp_details\n",
        "else:\n",
        "    from niid import get_dataset, average_weights, weighted_average_weights, exp_details"
      ]
    },
    {
      "cell_type": "code",
      "execution_count": null,
      "metadata": {
        "id": "Jinx3ANxL4Jq",
        "colab": {
          "base_uri": "https://localhost:8080/"
        },
        "outputId": "e7072276-e5b0-47f9-ac7d-45e0731cacfa"
      },
      "outputs": [
        {
          "output_type": "stream",
          "name": "stdout",
          "text": [
            "\n",
            "Experimental details:\n",
            "    Model     : ResNet50\n",
            "    Optimizer : sgd\n",
            "    Learning  : 1\n",
            "    Normalization  : BatchNorm\n",
            "    Global Rounds   : 20\n",
            "\n",
            "    Federated parameters:\n",
            "    Non-IID - unbalanced\n",
            "    NUmber of users  : 50\n",
            "    Fraction of users  : 0.1\n",
            "    Local Batch size   : 128\n",
            "    Local Epochs       : 10\n",
            "\n"
          ]
        }
      ],
      "source": [
        "exp_details(\"ResNet50\", optimizer, lr, normalization_type, n_epochs, iid, frac,\n",
        "            local_batch_size, local_epochs, unbalanced, num_users)"
      ]
    },
    {
      "cell_type": "code",
      "execution_count": null,
      "metadata": {
        "id": "bBd_hkwiMNZI"
      },
      "outputs": [],
      "source": [
        "train_dataset, test_dataset, user_groups = get_dataset(iid=iid, unbalanced=unbalanced,\n",
        "                                                       num_users=num_users)"
      ]
    },
    {
      "cell_type": "code",
      "execution_count": null,
      "metadata": {
        "id": "y2DIdO7txr5Q"
      },
      "outputs": [],
      "source": [
        "train_dataset"
      ]
    },
    {
      "cell_type": "code",
      "execution_count": null,
      "metadata": {
        "id": "twRy1AIbNgBB"
      },
      "outputs": [],
      "source": [
        "!pip install fedlab"
      ]
    },
    {
      "cell_type": "code",
      "execution_count": null,
      "metadata": {
        "id": "PK8QBU4j0GRV"
      },
      "outputs": [],
      "source": [
        "from tqdm import trange\n",
        "from fedlab.utils.serialization import SerializationTool\n",
        "from fedlab.utils.functional import get_best_gpu\n",
        "from os import listdir"
      ]
    },
    {
      "cell_type": "code",
      "execution_count": null,
      "metadata": {
        "id": "OaB-hkL00Nno"
      },
      "outputs": [],
      "source": [
        "from torch.nn import CrossEntropyLoss\n",
        "\n",
        "from copy import deepcopy\n",
        "\n",
        "from math import ceil"
      ]
    },
    {
      "cell_type": "code",
      "execution_count": null,
      "metadata": {
        "id": "-ZS4j9FO1mmP"
      },
      "outputs": [],
      "source": [
        ""
      ]
    },
    {
      "cell_type": "code",
      "execution_count": null,
      "metadata": {
        "id": "tMG4P7UE195X"
      },
      "outputs": [],
      "source": [
        "from utils3 import get_args, get_model"
      ]
    },
    {
      "cell_type": "code",
      "execution_count": null,
      "metadata": {
        "id": "in13rANr2hgZ"
      },
      "outputs": [],
      "source": [
        "model = ResNet50(n_type=normalization_type)\n",
        "# model = CNNCifar()\n",
        "\n",
        "train_on_gpu = torch.cuda.is_available()\n",
        "\n",
        "if not train_on_gpu:\n",
        "    print('CUDA is not available.  Training on CPU ...')\n",
        "    device = torch.device(\"cpu\")\n",
        "    gpu = 0\n",
        "else:\n",
        "    print('CUDA is available!  Training on GPU ...')\n",
        "    device = torch.device(\"cuda\")\n",
        "    gpu = 1\n",
        "\n",
        "global_model = model.to(device)\n",
        "\n",
        "# set the model to train\n",
        "global_model.train()"
      ]
    },
    {
      "cell_type": "code",
      "execution_count": null,
      "metadata": {
        "id": "t-fSi9xmxZCh"
      },
      "outputs": [],
      "source": [
        "c_global = [\n",
        "    torch.zeros_like(param, device=device)\n",
        "    for param in global_model.parameters()\n",
        "    if param.requires_grad\n",
        "]"
      ]
    },
    {
      "cell_type": "code",
      "execution_count": null,
      "metadata": {
        "id": "hJmxPF1Z4eoX"
      },
      "outputs": [],
      "source": [
        "# for REPRODUCIBILITY https://pytorch.org/docs/stable/notes/randomness.html\n",
        "torch.manual_seed(2)\n",
        "\n",
        "g = torch.Generator()\n",
        "g.manual_seed(2)\n",
        "\n",
        "np.random.seed(2)"
      ]
    },
    {
      "cell_type": "code",
      "execution_count": null,
      "metadata": {
        "id": "QmYQ52Ua9Mcz"
      },
      "outputs": [],
      "source": [
        "# copy weights\n",
        "global_weights = model.state_dict()"
      ]
    },
    {
      "cell_type": "code",
      "execution_count": null,
      "metadata": {
        "id": "11oRowK39ckS"
      },
      "outputs": [],
      "source": [
        "criterion = CrossEntropyLoss()"
      ]
    },
    {
      "cell_type": "code",
      "execution_count": null,
      "metadata": {
        "id": "bTcJR03BxjGm"
      },
      "outputs": [],
      "source": [
        "client_num_in_total=len(user_groups)"
      ]
    },
    {
      "cell_type": "code",
      "execution_count": null,
      "metadata": {
        "id": "u0I3uj4mx8hw"
      },
      "outputs": [],
      "source": [
        "client_indices = range(client_num_in_total)"
      ]
    },
    {
      "cell_type": "code",
      "execution_count": null,
      "metadata": {
        "id": "hRfvZyvQ1qBi"
      },
      "outputs": [],
      "source": [
        ""
      ]
    },
    {
      "cell_type": "code",
      "execution_count": null,
      "metadata": {
        "id": "3Ny5RsJ0-D82"
      },
      "outputs": [],
      "source": [
        "comms_round=n_epochs\n",
        "client_num_per_round=10\n",
        "test_round=1"
      ]
    },
    {
      "cell_type": "code",
      "execution_count": null,
      "metadata": {
        "id": "y0hOsxZ6K-Ma"
      },
      "outputs": [],
      "source": [
        "from torch.utils.data import DataLoader"
      ]
    },
    {
      "cell_type": "code",
      "execution_count": null,
      "metadata": {
        "id": "x9ye1luhK1I4"
      },
      "outputs": [],
      "source": [
        "#train_dataset, test_dataset\n",
        "trainloader = DataLoader(train_dataset,local_batch_size, shuffle=True)\n",
        "testloader = DataLoader(test_dataset, local_batch_size, shuffle=True)"
      ]
    },
    {
      "cell_type": "code",
      "execution_count": null,
      "metadata": {
        "id": "CnxX7pH2PMzc"
      },
      "outputs": [],
      "source": [
        "from scaffold import SCAFFOLDTrainer"
      ]
    },
    {
      "cell_type": "code",
      "execution_count": null,
      "metadata": {
        "id": "qn7zj__SNZMm"
      },
      "outputs": [],
      "source": [
        "\n",
        "client_list = [\n",
        "    SCAFFOLDTrainer(\n",
        "        client_id=client_id,\n",
        "        global_model=global_model,\n",
        "        trainloader=trainloader,\n",
        "        valloader=testloader,\n",
        "        batch_size=local_batch_size,\n",
        "        lr=lr,\n",
        "        criterion=criterion,\n",
        "        epochs=local_epochs,\n",
        "        cuda=train_on_gpu,\n",
        "    )\n",
        "    for client_id in range(client_num_in_total)\n",
        "]"
      ]
    },
    {
      "cell_type": "code",
      "execution_count": null,
      "metadata": {
        "id": "_FlzzPVqdSko"
      },
      "outputs": [],
      "source": [
        "acc=[]\n",
        "lss=[]"
      ]
    },
    {
      "cell_type": "code",
      "execution_count": null,
      "metadata": {
        "id": "ozGUglTk9BD9"
      },
      "outputs": [],
      "source": [
        "for r in range(comms_round):\n",
        "    # select clients\n",
        "    selected_clients = random.sample(client_indices, client_num_per_round)\n",
        "    print(\n",
        "        \"\\033[1;34mselected clients in round [{}]: {}\\033[0m\".format(\n",
        "            r, selected_clients\n",
        "        )\n",
        "    )\n",
        "    global_model_param = SerializationTool.serialize_model(global_model)\n",
        "    c_delta_buffer = []\n",
        "    y_delta_buffer = []\n",
        "    # train\n",
        "    for client_id in selected_clients:\n",
        "        y_delta, c_delta = client_list[client_id].train(\n",
        "            global_model_param, c_global\n",
        "        )\n",
        "        c_delta_buffer.append(c_delta)\n",
        "        y_delta_buffer.append(y_delta)\n",
        "    \n",
        "    with torch.no_grad():\n",
        "        # update global model\n",
        "        for y_del in y_delta_buffer:\n",
        "            for param, diff in zip(global_model.parameters(), y_del):\n",
        "                param.data.add_(\n",
        "                    diff.data * lr / client_num_per_round\n",
        "                )\n",
        "        # update global_c\n",
        "        for c_delta in c_delta_buffer:\n",
        "            for c_g, c_d in zip(c_global, c_delta):\n",
        "                c_g.data.add_(c_d.data / client_num_in_total)\n",
        "\n",
        "    if (r%1==0):\n",
        "\n",
        "      print(r)\n",
        "      avg_loss_g = 0  # global model loss\n",
        "      avg_acc_g = 0  # global model accuracy\n",
        "      avg_loss_l = 0  # localized model loss\n",
        "      avg_acc_l = 0  # localized model accuracy\n",
        "      \n",
        "      for client_id in selected_clients:\n",
        "        stats = client_list[client_id].eval(global_model_param, c_global)\n",
        "        avg_loss_g += stats[0]\n",
        "        avg_acc_g += stats[1]\n",
        "        avg_loss_l += stats[2]\n",
        "        avg_acc_l += stats[3]\n",
        "        # display experiment results\n",
        "      avg_loss_g /= client_num_per_round * test_round\n",
        "      avg_acc_g /= client_num_per_round * test_round\n",
        "      avg_loss_l /= client_num_per_round * test_round\n",
        "      avg_acc_l /= client_num_per_round * test_round\n",
        "      acc.append(\"\\033[1;33m Global SCAFFOLD loss: {:.4f}\\033[0m\".format(avg_loss_g))\n",
        "      lss.append(\"\\033[1;33m Global SCAFFOLD accuracy: {:.2f}%\\033[0m\".format(avg_acc_g))\n",
        "      print(\"\\033[1;32m---------------------- result behind----------------------\\033[0m\")\n",
        "      print(\"\\033[1;33m Global SCAFFOLD loss: {:.4f}\\033[0m\".format(avg_loss_g))\n",
        "      print(\"\\033[1;33m Global SCAFFOLD accuracy: {:.2f}%\\033[0m\".format(avg_acc_g))\n",
        "      print(\"\\033[1;36m Localized SCAFFOLD loss: {:.4f}\\033[0m\".format(avg_loss_l))\n",
        "      print(\"\\033[1;36m Localized SCAFFOLD accuracy: {:.2f}%\\033[0m\".format(avg_acc_l))\n",
        "# evaluate\n",
        "avg_loss_g = 0  # global model loss\n",
        "avg_acc_g = 0  # global model accuracy\n",
        "avg_loss_l = 0  # localized model loss\n",
        "avg_acc_l = 0  # localized model accuracy\n",
        "for r in range(test_round):\n",
        "    selected_clients = random.sample(client_indices,client_num_per_round)\n",
        "    print(\n",
        "        \"\\033[1;34mselected clients in round [{}]: {}\\033[0m\".format(\n",
        "            r, selected_clients\n",
        "        )\n",
        "    )\n",
        "    global_model_param = SerializationTool.serialize_model(global_model)\n",
        "    for client_id in selected_clients:\n",
        "        stats = client_list[client_id].eval(global_model_param, c_global)\n",
        "        avg_loss_g += stats[0]\n",
        "        avg_acc_g += stats[1]\n",
        "        avg_loss_l += stats[2]\n",
        "        avg_acc_l += stats[3]\n",
        "\n",
        "# display experiment results\n",
        "avg_loss_g /= client_num_per_round * test_round\n",
        "avg_acc_g /= client_num_per_round * test_round\n",
        "avg_loss_l /= client_num_per_round * test_round\n",
        "avg_acc_l /= client_num_per_round * test_round\n",
        "print(\"\\033[1;32m---------------------- result behind----------------------\\033[0m\")\n",
        "print(\"\\033[1;33m Global SCAFFOLD loss: {:.4f}\\033[0m\".format(avg_loss_g))\n",
        "print(\"\\033[1;33m Global SCAFFOLD accuracy: {:.2f}%\\033[0m\".format(avg_acc_g))\n",
        "print(\"\\033[1;36m Localized SCAFFOLD loss: {:.4f}\\033[0m\".format(avg_loss_l))\n",
        "print(\"\\033[1;36m Localized SCAFFOLD accuracy: {:.2f}%\\033[0m\".format(avg_acc_l))"
      ]
    },
    {
      "cell_type": "code",
      "execution_count": null,
      "metadata": {
        "id": "Q5g0bD5YXlkD"
      },
      "outputs": [],
      "source": [
        "acc\n"
      ]
    },
    {
      "cell_type": "code",
      "source": [
        "lss"
      ],
      "metadata": {
        "id": "9lQW0h053f-n"
      },
      "execution_count": null,
      "outputs": []
    },
    {
      "cell_type": "code",
      "source": [
        "\n",
        "# save train loss and accuracy\n",
        "import pandas as pd\n",
        "\n",
        "\n",
        "data = list(zip(lss, acc))\n",
        "pd.DataFrame(data, columns=['train_loss','train_accuracy']).to_csv(\"scaffoldoutput.csv\")\n"
      ],
      "metadata": {
        "id": "x-COcWVy09TW"
      },
      "execution_count": null,
      "outputs": []
    },
    {
      "cell_type": "code",
      "source": [
        "from google.colab import files\n",
        "files.download('scaffoldoutput.csv')"
      ],
      "metadata": {
        "id": "SvjKe8g818nk"
      },
      "execution_count": null,
      "outputs": []
    }
  ],
  "metadata": {
    "accelerator": "GPU",
    "colab": {
      "collapsed_sections": [],
      "name": "scafold.ipynb",
      "provenance": []
    },
    "gpuClass": "standard",
    "kernelspec": {
      "display_name": "Python 3",
      "name": "python3"
    },
    "language_info": {
      "name": "python"
    }
  },
  "nbformat": 4,
  "nbformat_minor": 0
}