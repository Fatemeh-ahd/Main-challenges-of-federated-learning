{
  "cells": [
    {
      "cell_type": "markdown",
      "source": [
        "Implementation Of fedGKt based on fedml library\n",
        "# https://github.com/FedML-AI/FedML/tree/master/fedml_experiments/distributed/fedgkt"
      ],
      "metadata": {
        "id": "6Ox5SkI7DsP8"
      }
    },
    {
      "cell_type": "code",
      "execution_count": null,
      "metadata": {
        "collapsed": true,
        "pycharm": {
          "name": "#%%\n"
        },
        "id": "mtFZW2fNDXZ2"
      },
      "outputs": [],
      "source": [
        "\n",
        "\n",
        "\n",
        "import torch\n",
        "from torchsummary import summary\n",
        "\n",
        "import numpy as np\n",
        "from models_server import ResNet50\n",
        "from models_client import ResNet8\n",
        "from server import GKTServerTrainer\n",
        "from client import GKTClientTrainer"
      ]
    },
    {
      "cell_type": "code",
      "execution_count": null,
      "outputs": [],
      "source": [
        "#chaged yml file into notebook for simplicity of tuning parameters\n",
        "###########################################################\n",
        "iid = 0 \n",
        "unbalanced = 0 \n",
        "num_users = 100 \n",
        "frac = 0.1 \n",
        "server_epochs = 10\n",
        "gpu = 0\n",
        "optimizer = \"sgd\" \n",
        "local_batch_size = 128 \n",
        "lr = 1e-2 \n",
        "client_epochs = 1\n",
        "loss_function = \"CrossEntropyLoss\"\n",
        "partition_alpha = 0.5\n",
        "client_number = num_users  \n",
        "temperature = 3.0\n",
        "communication_rounds = 10 \n",
        "num_groups = 0  #put 2 for GN\n",
        "if num_groups == 0:\n",
        "    normalization_type = \"BatchNorm\"\n",
        "else:\n",
        "    normalization_type = \"GroupNorm\"\n",
        "if iid:\n",
        "    from iid import get_dataset, average_weights, exp_details\n",
        "else:\n",
        "    from niid import get_dataset, average_weights, exp_details"
      ],
      "metadata": {
        "pycharm": {
          "name": "#%%\n"
        },
        "id": "G-gN_EjoDXZ-"
      }
    },
    {
      "cell_type": "code",
      "execution_count": null,
      "outputs": [
        {
          "name": "stdout",
          "output_type": "stream",
          "text": [
            "Files already downloaded and verified\n",
            "Files already downloaded and verified\n"
          ]
        }
      ],
      "source": [
        "train_dataset, test_dataset, user_groups = get_dataset(iid=iid, unbalanced=unbalanced, num_users=num_users)"
      ],
      "metadata": {
        "pycharm": {
          "name": "#%%\n"
        },
        "id": "Q4PmcD3vDXaB",
        "outputId": "814bb2e0-674a-4481-ff12-8879ecc6e4d6"
      }
    },
    {
      "cell_type": "code",
      "execution_count": null,
      "outputs": [],
      "source": [
        "def create_client_model():\n",
        "    # client_model = RenNet8(normalization_type)\n",
        "    client_model = ResNet8()\n",
        "    return client_model\n",
        "\n",
        "def create_server_model():\n",
        "    server_model = ResNet50(n_type=normalization_type)\n",
        "    return server_model\n",
        "server_model = create_server_model()\n",
        "client_model = create_client_model()"
      ],
      "metadata": {
        "pycharm": {
          "name": "#%%\n"
        },
        "id": "jqm_3u5rDXaD"
      }
    },
    {
      "cell_type": "code",
      "execution_count": null,
      "outputs": [
        {
          "name": "stdout",
          "output_type": "stream",
          "text": [
            "CUDA is available!  Training on GPU ...\n"
          ]
        },
        {
          "data": {
            "text/plain": "ResNet(\n  (conv1): Conv2d(3, 16, kernel_size=(3, 3), stride=(1, 1), padding=(1, 1), bias=False)\n  (bn1): BatchNorm2d(16, eps=1e-05, momentum=0.1, affine=True, track_running_stats=True)\n  (relu): ReLU(inplace=True)\n  (maxpool): MaxPool2d(kernel_size=3, stride=2, padding=1, dilation=1, ceil_mode=False)\n  (layer1): Sequential(\n    (0): Bottleneck(\n      (conv1): Conv2d(16, 16, kernel_size=(1, 1), stride=(1, 1), bias=False)\n      (bn1): BatchNorm2d(16, eps=1e-05, momentum=0.1, affine=True, track_running_stats=True)\n      (conv2): Conv2d(16, 16, kernel_size=(3, 3), stride=(1, 1), padding=(1, 1), bias=False)\n      (bn2): BatchNorm2d(16, eps=1e-05, momentum=0.1, affine=True, track_running_stats=True)\n      (conv3): Conv2d(16, 64, kernel_size=(1, 1), stride=(1, 1), bias=False)\n      (bn3): BatchNorm2d(64, eps=1e-05, momentum=0.1, affine=True, track_running_stats=True)\n      (relu): ReLU(inplace=True)\n      (downsample): Sequential(\n        (0): Conv2d(16, 64, kernel_size=(1, 1), stride=(1, 1), bias=False)\n        (1): BatchNorm2d(64, eps=1e-05, momentum=0.1, affine=True, track_running_stats=True)\n      )\n    )\n    (1): Bottleneck(\n      (conv1): Conv2d(64, 16, kernel_size=(1, 1), stride=(1, 1), bias=False)\n      (bn1): BatchNorm2d(16, eps=1e-05, momentum=0.1, affine=True, track_running_stats=True)\n      (conv2): Conv2d(16, 16, kernel_size=(3, 3), stride=(1, 1), padding=(1, 1), bias=False)\n      (bn2): BatchNorm2d(16, eps=1e-05, momentum=0.1, affine=True, track_running_stats=True)\n      (conv3): Conv2d(16, 64, kernel_size=(1, 1), stride=(1, 1), bias=False)\n      (bn3): BatchNorm2d(64, eps=1e-05, momentum=0.1, affine=True, track_running_stats=True)\n      (relu): ReLU(inplace=True)\n    )\n  )\n  (avgpool): AdaptiveAvgPool2d(output_size=(1, 1))\n  (fc): Linear(in_features=64, out_features=10, bias=True)\n)"
          },
          "execution_count": 19,
          "metadata": {},
          "output_type": "execute_result"
        }
      ],
      "source": [
        "train_on_gpu = torch.cuda.is_available()\n",
        "\n",
        "if not train_on_gpu:\n",
        "    print('CUDA is not available.  Training on CPU ...')\n",
        "    device = torch.device(\"cpu\")\n",
        "    gpu = 0\n",
        "else:\n",
        "    print('CUDA is available!  Training on GPU ...')\n",
        "    device = torch.device(\"cuda\")\n",
        "    gpu = 1\n",
        "\n",
        "server_model.to(device)\n",
        "client_model.to(device)\n",
        "\n",
        "# set the models to train\n",
        "server_model.train()\n",
        "client_model.train()"
      ],
      "metadata": {
        "pycharm": {
          "name": "#%%\n"
        },
        "id": "MfaycXi1DXaF",
        "outputId": "98538a9a-f65e-4cbc-81ae-82ce3c08ea66"
      }
    },
    {
      "cell_type": "code",
      "execution_count": null,
      "outputs": [
        {
          "name": "stdout",
          "output_type": "stream",
          "text": [
            "----------------------------------------------------------------\n",
            "        Layer (type)               Output Shape         Param #\n",
            "================================================================\n",
            "            Conv2d-1           [-1, 64, 32, 32]           1,024\n",
            "       BatchNorm2d-2           [-1, 64, 32, 32]             128\n",
            "            Conv2d-3           [-1, 64, 32, 32]          36,864\n",
            "       BatchNorm2d-4           [-1, 64, 32, 32]             128\n",
            "            Conv2d-5          [-1, 256, 32, 32]          16,384\n",
            "       BatchNorm2d-6          [-1, 256, 32, 32]             512\n",
            "            Conv2d-7          [-1, 256, 32, 32]           4,096\n",
            "       BatchNorm2d-8          [-1, 256, 32, 32]             512\n",
            "        Bottleneck-9          [-1, 256, 32, 32]               0\n",
            "           Conv2d-10           [-1, 64, 32, 32]          16,384\n",
            "      BatchNorm2d-11           [-1, 64, 32, 32]             128\n",
            "           Conv2d-12           [-1, 64, 32, 32]          36,864\n",
            "      BatchNorm2d-13           [-1, 64, 32, 32]             128\n",
            "           Conv2d-14          [-1, 256, 32, 32]          16,384\n",
            "      BatchNorm2d-15          [-1, 256, 32, 32]             512\n",
            "       Bottleneck-16          [-1, 256, 32, 32]               0\n",
            "           Conv2d-17           [-1, 64, 32, 32]          16,384\n",
            "      BatchNorm2d-18           [-1, 64, 32, 32]             128\n",
            "           Conv2d-19           [-1, 64, 32, 32]          36,864\n",
            "      BatchNorm2d-20           [-1, 64, 32, 32]             128\n",
            "           Conv2d-21          [-1, 256, 32, 32]          16,384\n",
            "      BatchNorm2d-22          [-1, 256, 32, 32]             512\n",
            "       Bottleneck-23          [-1, 256, 32, 32]               0\n",
            "           Conv2d-24          [-1, 128, 32, 32]          32,768\n",
            "      BatchNorm2d-25          [-1, 128, 32, 32]             256\n",
            "           Conv2d-26          [-1, 128, 16, 16]         147,456\n",
            "      BatchNorm2d-27          [-1, 128, 16, 16]             256\n",
            "           Conv2d-28          [-1, 512, 16, 16]          65,536\n",
            "      BatchNorm2d-29          [-1, 512, 16, 16]           1,024\n",
            "           Conv2d-30          [-1, 512, 16, 16]         131,072\n",
            "      BatchNorm2d-31          [-1, 512, 16, 16]           1,024\n",
            "       Bottleneck-32          [-1, 512, 16, 16]               0\n",
            "           Conv2d-33          [-1, 128, 16, 16]          65,536\n",
            "      BatchNorm2d-34          [-1, 128, 16, 16]             256\n",
            "           Conv2d-35          [-1, 128, 16, 16]         147,456\n",
            "      BatchNorm2d-36          [-1, 128, 16, 16]             256\n",
            "           Conv2d-37          [-1, 512, 16, 16]          65,536\n",
            "      BatchNorm2d-38          [-1, 512, 16, 16]           1,024\n",
            "       Bottleneck-39          [-1, 512, 16, 16]               0\n",
            "           Conv2d-40          [-1, 128, 16, 16]          65,536\n",
            "      BatchNorm2d-41          [-1, 128, 16, 16]             256\n",
            "           Conv2d-42          [-1, 128, 16, 16]         147,456\n",
            "      BatchNorm2d-43          [-1, 128, 16, 16]             256\n",
            "           Conv2d-44          [-1, 512, 16, 16]          65,536\n",
            "      BatchNorm2d-45          [-1, 512, 16, 16]           1,024\n",
            "       Bottleneck-46          [-1, 512, 16, 16]               0\n",
            "           Conv2d-47          [-1, 128, 16, 16]          65,536\n",
            "      BatchNorm2d-48          [-1, 128, 16, 16]             256\n",
            "           Conv2d-49          [-1, 128, 16, 16]         147,456\n",
            "      BatchNorm2d-50          [-1, 128, 16, 16]             256\n",
            "           Conv2d-51          [-1, 512, 16, 16]          65,536\n",
            "      BatchNorm2d-52          [-1, 512, 16, 16]           1,024\n",
            "       Bottleneck-53          [-1, 512, 16, 16]               0\n",
            "           Conv2d-54          [-1, 256, 16, 16]         131,072\n",
            "      BatchNorm2d-55          [-1, 256, 16, 16]             512\n",
            "           Conv2d-56            [-1, 256, 8, 8]         589,824\n",
            "      BatchNorm2d-57            [-1, 256, 8, 8]             512\n",
            "           Conv2d-58           [-1, 1024, 8, 8]         262,144\n",
            "      BatchNorm2d-59           [-1, 1024, 8, 8]           2,048\n",
            "           Conv2d-60           [-1, 1024, 8, 8]         524,288\n",
            "      BatchNorm2d-61           [-1, 1024, 8, 8]           2,048\n",
            "       Bottleneck-62           [-1, 1024, 8, 8]               0\n",
            "           Conv2d-63            [-1, 256, 8, 8]         262,144\n",
            "      BatchNorm2d-64            [-1, 256, 8, 8]             512\n",
            "           Conv2d-65            [-1, 256, 8, 8]         589,824\n",
            "      BatchNorm2d-66            [-1, 256, 8, 8]             512\n",
            "           Conv2d-67           [-1, 1024, 8, 8]         262,144\n",
            "      BatchNorm2d-68           [-1, 1024, 8, 8]           2,048\n",
            "       Bottleneck-69           [-1, 1024, 8, 8]               0\n",
            "           Conv2d-70            [-1, 256, 8, 8]         262,144\n",
            "      BatchNorm2d-71            [-1, 256, 8, 8]             512\n",
            "           Conv2d-72            [-1, 256, 8, 8]         589,824\n",
            "      BatchNorm2d-73            [-1, 256, 8, 8]             512\n",
            "           Conv2d-74           [-1, 1024, 8, 8]         262,144\n",
            "      BatchNorm2d-75           [-1, 1024, 8, 8]           2,048\n",
            "       Bottleneck-76           [-1, 1024, 8, 8]               0\n",
            "           Conv2d-77            [-1, 256, 8, 8]         262,144\n",
            "      BatchNorm2d-78            [-1, 256, 8, 8]             512\n",
            "           Conv2d-79            [-1, 256, 8, 8]         589,824\n",
            "      BatchNorm2d-80            [-1, 256, 8, 8]             512\n",
            "           Conv2d-81           [-1, 1024, 8, 8]         262,144\n",
            "      BatchNorm2d-82           [-1, 1024, 8, 8]           2,048\n",
            "       Bottleneck-83           [-1, 1024, 8, 8]               0\n",
            "           Conv2d-84            [-1, 256, 8, 8]         262,144\n",
            "      BatchNorm2d-85            [-1, 256, 8, 8]             512\n",
            "           Conv2d-86            [-1, 256, 8, 8]         589,824\n",
            "      BatchNorm2d-87            [-1, 256, 8, 8]             512\n",
            "           Conv2d-88           [-1, 1024, 8, 8]         262,144\n",
            "      BatchNorm2d-89           [-1, 1024, 8, 8]           2,048\n",
            "       Bottleneck-90           [-1, 1024, 8, 8]               0\n",
            "           Conv2d-91            [-1, 256, 8, 8]         262,144\n",
            "      BatchNorm2d-92            [-1, 256, 8, 8]             512\n",
            "           Conv2d-93            [-1, 256, 8, 8]         589,824\n",
            "      BatchNorm2d-94            [-1, 256, 8, 8]             512\n",
            "           Conv2d-95           [-1, 1024, 8, 8]         262,144\n",
            "      BatchNorm2d-96           [-1, 1024, 8, 8]           2,048\n",
            "       Bottleneck-97           [-1, 1024, 8, 8]               0\n",
            "           Conv2d-98            [-1, 512, 8, 8]         524,288\n",
            "      BatchNorm2d-99            [-1, 512, 8, 8]           1,024\n",
            "          Conv2d-100            [-1, 512, 4, 4]       2,359,296\n",
            "     BatchNorm2d-101            [-1, 512, 4, 4]           1,024\n",
            "          Conv2d-102           [-1, 2048, 4, 4]       1,048,576\n",
            "     BatchNorm2d-103           [-1, 2048, 4, 4]           4,096\n",
            "          Conv2d-104           [-1, 2048, 4, 4]       2,097,152\n",
            "     BatchNorm2d-105           [-1, 2048, 4, 4]           4,096\n",
            "      Bottleneck-106           [-1, 2048, 4, 4]               0\n",
            "          Conv2d-107            [-1, 512, 4, 4]       1,048,576\n",
            "     BatchNorm2d-108            [-1, 512, 4, 4]           1,024\n",
            "          Conv2d-109            [-1, 512, 4, 4]       2,359,296\n",
            "     BatchNorm2d-110            [-1, 512, 4, 4]           1,024\n",
            "          Conv2d-111           [-1, 2048, 4, 4]       1,048,576\n",
            "     BatchNorm2d-112           [-1, 2048, 4, 4]           4,096\n",
            "      Bottleneck-113           [-1, 2048, 4, 4]               0\n",
            "          Conv2d-114            [-1, 512, 4, 4]       1,048,576\n",
            "     BatchNorm2d-115            [-1, 512, 4, 4]           1,024\n",
            "          Conv2d-116            [-1, 512, 4, 4]       2,359,296\n",
            "     BatchNorm2d-117            [-1, 512, 4, 4]           1,024\n",
            "          Conv2d-118           [-1, 2048, 4, 4]       1,048,576\n",
            "     BatchNorm2d-119           [-1, 2048, 4, 4]           4,096\n",
            "      Bottleneck-120           [-1, 2048, 4, 4]               0\n",
            "          Linear-121                   [-1, 10]          20,490\n",
            "================================================================\n",
            "Total params: 23,503,626\n",
            "Trainable params: 23,503,626\n",
            "Non-trainable params: 0\n",
            "----------------------------------------------------------------\n",
            "Input size (MB): 0.06\n",
            "Forward/backward pass size (MB): 65.13\n",
            "Params size (MB): 89.66\n",
            "Estimated Total Size (MB): 154.85\n",
            "----------------------------------------------------------------\n"
          ]
        }
      ],
      "source": [
        "# 23,503,626 parameters (ResNet49)\n",
        "# 23,520,842 parameters (ResNet50)\n",
        "summary(server_model, (16, 32, 32))"
      ],
      "metadata": {
        "pycharm": {
          "name": "#%%\n"
        },
        "id": "YWVMw0BJDXaH",
        "outputId": "a18340f7-6248-46aa-d82e-e20bf57d64cc"
      }
    },
    {
      "cell_type": "code",
      "execution_count": null,
      "outputs": [
        {
          "name": "stdout",
          "output_type": "stream",
          "text": [
            "----------------------------------------------------------------\n",
            "        Layer (type)               Output Shape         Param #\n",
            "================================================================\n",
            "            Conv2d-1           [-1, 16, 32, 32]             432\n",
            "       BatchNorm2d-2           [-1, 16, 32, 32]              32\n",
            "              ReLU-3           [-1, 16, 32, 32]               0\n",
            "            Conv2d-4           [-1, 16, 32, 32]             256\n",
            "       BatchNorm2d-5           [-1, 16, 32, 32]              32\n",
            "              ReLU-6           [-1, 16, 32, 32]               0\n",
            "            Conv2d-7           [-1, 16, 32, 32]           2,304\n",
            "       BatchNorm2d-8           [-1, 16, 32, 32]              32\n",
            "              ReLU-9           [-1, 16, 32, 32]               0\n",
            "           Conv2d-10           [-1, 64, 32, 32]           1,024\n",
            "      BatchNorm2d-11           [-1, 64, 32, 32]             128\n",
            "           Conv2d-12           [-1, 64, 32, 32]           1,024\n",
            "      BatchNorm2d-13           [-1, 64, 32, 32]             128\n",
            "             ReLU-14           [-1, 64, 32, 32]               0\n",
            "       Bottleneck-15           [-1, 64, 32, 32]               0\n",
            "           Conv2d-16           [-1, 16, 32, 32]           1,024\n",
            "      BatchNorm2d-17           [-1, 16, 32, 32]              32\n",
            "             ReLU-18           [-1, 16, 32, 32]               0\n",
            "           Conv2d-19           [-1, 16, 32, 32]           2,304\n",
            "      BatchNorm2d-20           [-1, 16, 32, 32]              32\n",
            "             ReLU-21           [-1, 16, 32, 32]               0\n",
            "           Conv2d-22           [-1, 64, 32, 32]           1,024\n",
            "      BatchNorm2d-23           [-1, 64, 32, 32]             128\n",
            "             ReLU-24           [-1, 64, 32, 32]               0\n",
            "       Bottleneck-25           [-1, 64, 32, 32]               0\n",
            "AdaptiveAvgPool2d-26             [-1, 64, 1, 1]               0\n",
            "           Linear-27                   [-1, 10]             650\n",
            "================================================================\n",
            "Total params: 10,586\n",
            "Trainable params: 10,586\n",
            "Non-trainable params: 0\n",
            "----------------------------------------------------------------\n",
            "Input size (MB): 0.01\n",
            "Forward/backward pass size (MB): 6.88\n",
            "Params size (MB): 0.04\n",
            "Estimated Total Size (MB): 6.93\n",
            "----------------------------------------------------------------\n"
          ]
        }
      ],
      "source": [
        "# 10,586 parameters (ResNet8)\n",
        "summary(client_model, (3, 32, 32))"
      ],
      "metadata": {
        "pycharm": {
          "name": "#%%\n"
        },
        "id": "0bRfyThxDXaJ",
        "outputId": "a9699b04-c1ce-43e2-d7cc-851106ea6301"
      }
    },
    {
      "cell_type": "code",
      "execution_count": 1,
      "outputs": [
        {
          "output_type": "error",
          "ename": "NameError",
          "evalue": "ignored",
          "traceback": [
            "\u001b[0;31m---------------------------------------------------------------------------\u001b[0m",
            "\u001b[0;31mNameError\u001b[0m                                 Traceback (most recent call last)",
            "\u001b[0;32m<ipython-input-1-cc2b3acff957>\u001b[0m in \u001b[0;36m<module>\u001b[0;34m()\u001b[0m\n\u001b[1;32m      1\u001b[0m \u001b[0;31m# init server\u001b[0m\u001b[0;34m\u001b[0m\u001b[0;34m\u001b[0m\u001b[0;34m\u001b[0m\u001b[0m\n\u001b[0;32m----> 2\u001b[0;31m server_trainer = GKTServerTrainer(server_model, num_users, lr, server_epochs, device,\n\u001b[0m\u001b[1;32m      3\u001b[0m                                   optimizer, temperature)\n\u001b[1;32m      4\u001b[0m \u001b[0mclients_trainer\u001b[0m \u001b[0;34m=\u001b[0m \u001b[0;34m[\u001b[0m\u001b[0;34m]\u001b[0m  \u001b[0;31m# list of client_trainer\u001b[0m\u001b[0;34m\u001b[0m\u001b[0;34m\u001b[0m\u001b[0m\n\u001b[1;32m      5\u001b[0m \u001b[0;34m\u001b[0m\u001b[0m\n",
            "\u001b[0;31mNameError\u001b[0m: name 'GKTServerTrainer' is not defined"
          ]
        }
      ],
      "source": [
        "# init server\n",
        "server_trainer = GKTServerTrainer(server_model, num_users, lr, server_epochs, device,\n",
        "                                  optimizer, temperature)\n",
        "clients_trainer = []  # list of client_trainer\n",
        "\n",
        "# different clients at each epoch\n",
        "\n",
        "idxs_users = range(num_users)\n",
        "\n",
        "# init all clients\n",
        "for idx in idxs_users:\n",
        "    client_trainer = GKTClientTrainer(client_model, train_dataset, test_dataset,\n",
        "                                      user_groups[idx], idx, gpu, optimizer, local_batch_size,\n",
        "                                      lr, client_epochs, temperature, partition_alpha)\n",
        "    clients_trainer.append(client_trainer)\n",
        "    # print(f\"client \\t{idx}/{num_users} initialized\")\n",
        "\n",
        "for communication_round in range(1, communication_rounds+1):\n",
        "    print(f'\\nCommunication Round: {communication_round} \\n')\n",
        "\n",
        "    m = max(int(frac * num_users), 1) # number of users to be used for federated updates, at least 1\n",
        "    idxs_chosen_users = np.random.choice(range(num_users), m, replace=False) # choose randomly m users\n",
        "\n",
        "    print(idxs_chosen_users)\n",
        "    for idx in idxs_chosen_users:\n",
        "        # the server broadcast k-th Z_c to the client\n",
        "        extracted_feature_dict, logits_dict, labels_dict, extracted_feature_dict_test,\\\n",
        "        labels_dict_test = clients_trainer[idx].train()\n",
        "\n",
        "        # send client result to server\n",
        "        server_trainer.add_local_trained_result(idx, extracted_feature_dict, logits_dict, labels_dict,\n",
        "                                                extracted_feature_dict_test, labels_dict_test)\n",
        "\n",
        "    # # check if all updates are received\n",
        "    # b_all_received = server_trainer.check_whether_all_receive()\n",
        "    # print(\"b_all received\" + str(b_all_received))\n",
        "    #\n",
        "    # if b_all_received:\n",
        "    #     server_trainer.train(communication_round)\n",
        "\n",
        "    server_trainer.train(communication_round, idxs_chosen_users)\n",
        "\n",
        "    for idx in idxs_chosen_users:\n",
        "        # get global logits\n",
        "        global_logits = server_trainer.get_global_logits(idx)\n",
        "\n",
        "        # print(type(global_logits))\n",
        "        # print(len(global_logits))\n",
        "        # print(global_logits)\n",
        "\n",
        "        # send global logits to client\n",
        "        clients_trainer[idx].update_large_model_logits(global_logits)\n",
        "\n",
        "# get lists of train loss and accuracy\n",
        "train_loss, train_accuracy = server_trainer.get_loss_acc_list()"
      ],
      "metadata": {
        "pycharm": {
          "name": "#%%\n"
        },
        "colab": {
          "base_uri": "https://localhost:8080/",
          "height": 244
        },
        "id": "6Hd4DNgFDXaK",
        "outputId": "a00bbd40-2c88-4325-b9d3-fc76bd3cd659"
      }
    }
  ],
  "metadata": {
    "kernelspec": {
      "display_name": "Python 3",
      "language": "python",
      "name": "python3"
    },
    "language_info": {
      "codemirror_mode": {
        "name": "ipython",
        "version": 2
      },
      "file_extension": ".py",
      "mimetype": "text/x-python",
      "name": "python",
      "nbconvert_exporter": "python",
      "pygments_lexer": "ipython2",
      "version": "2.7.6"
    },
    "colab": {
      "name": "mainFedGKT.ipynb",
      "provenance": [],
      "collapsed_sections": []
    }
  },
  "nbformat": 4,
  "nbformat_minor": 0
}